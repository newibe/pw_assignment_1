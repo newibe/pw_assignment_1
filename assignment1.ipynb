{
 "cells": [
  {
   "cell_type": "code",
   "execution_count": 1,
   "id": "f9025ce2-0d62-4a8d-b549-554455c6cb2b",
   "metadata": {},
   "outputs": [
    {
     "name": "stdin",
     "output_type": "stream",
     "text": [
      "value of x: 5\n",
      "value of y: 6\n"
     ]
    },
    {
     "name": "stdout",
     "output_type": "stream",
     "text": [
      "new value of x and y is : 6 and 5 respectively \n"
     ]
    }
   ],
   "source": [
    "#python basics variable\n",
    "#1\n",
    "a = int(input(\"value of x:\"))\n",
    "b = int(input(\"value of y:\"))\n",
    "a , b = b , a\n",
    "print(f\"new value of x and y is : {a} and {b} respectively \")"
   ]
  },
  {
   "cell_type": "code",
   "execution_count": 2,
   "id": "df743138-0bac-442b-a7bf-e98e012d39ec",
   "metadata": {},
   "outputs": [
    {
     "name": "stdin",
     "output_type": "stream",
     "text": [
      "enter the length of ractangle: 6\n",
      "enter the width of ractangle: 9\n"
     ]
    },
    {
     "name": "stdout",
     "output_type": "stream",
     "text": [
      "the area of the ractangle is: 54.0\n"
     ]
    }
   ],
   "source": [
    "#2\n",
    "a = float(input(\"enter the length of ractangle:\"))\n",
    "b = float(input(\"enter the width of ractangle:\"))\n",
    "c = a * b\n",
    "print(f\"the area of the ractangle is: {c}\")"
   ]
  },
  {
   "cell_type": "code",
   "execution_count": 3,
   "id": "53fcdf67-5b51-4e38-b9fc-a7a420a5f68f",
   "metadata": {},
   "outputs": [
    {
     "name": "stdin",
     "output_type": "stream",
     "text": [
      "temprature in celsius 37.6\n"
     ]
    },
    {
     "name": "stdout",
     "output_type": "stream",
     "text": [
      "37.6 degree celsius is equals to 99.68 degree fahrenheit.\n"
     ]
    }
   ],
   "source": [
    "#3\n",
    "a = float(input(\"temprature in celsius\"))\n",
    "b = a * ( 9 / 5 ) + 32\n",
    "print(f\"{a} degree celsius is equals to {b} degree fahrenheit.\")"
   ]
  },
  {
   "cell_type": "code",
   "execution_count": 4,
   "id": "a8225807-a52b-4492-9d60-f80759de06df",
   "metadata": {},
   "outputs": [
    {
     "name": "stdin",
     "output_type": "stream",
     "text": [
      "Enter a string:  ee yo mr miyagi\n"
     ]
    },
    {
     "name": "stdout",
     "output_type": "stream",
     "text": [
      "The length of the string is: 15\n"
     ]
    }
   ],
   "source": [
    "#string based questions\n",
    "#1\n",
    "a = input(\"Enter a string: \")\n",
    "b = len(a)\n",
    "print(f\"The length of the string is: {b}\")"
   ]
  },
  {
   "cell_type": "code",
   "execution_count": 5,
   "id": "8579974a-87f8-48c8-b13e-87c58b8c3228",
   "metadata": {},
   "outputs": [
    {
     "name": "stdin",
     "output_type": "stream",
     "text": [
      "Enter a sentence:  hello my self vikant chauhan.\n"
     ]
    },
    {
     "name": "stdout",
     "output_type": "stream",
     "text": [
      "Number of vowels in the sentence:8\n"
     ]
    }
   ],
   "source": [
    "#2\n",
    "a= input(\"Enter a sentence: \")\n",
    "b= 0\n",
    "a= a.lower()\n",
    "for char in a:\n",
    "    if char in 'aeiou':\n",
    "        b += 1\n",
    "print(f\"Number of vowels in the sentence:{b}\")"
   ]
  },
  {
   "cell_type": "code",
   "execution_count": 6,
   "id": "e731a546-1e3e-4e9d-9a74-ce4c280128e3",
   "metadata": {},
   "outputs": [
    {
     "name": "stdin",
     "output_type": "stream",
     "text": [
      "give the string you want me to reverse: hello digo\n"
     ]
    },
    {
     "name": "stdout",
     "output_type": "stream",
     "text": [
      "here is your reversed string: ogid olleh\n"
     ]
    }
   ],
   "source": [
    "#3\n",
    "a = str(input(\"give the string you want me to reverse:\"))\n",
    "print(f\"here is your reversed string: {a[::-1]}\")"
   ]
  },
  {
   "cell_type": "code",
   "execution_count": 7,
   "id": "799ddd3d-38a7-4869-a9fc-610a9c1f9567",
   "metadata": {},
   "outputs": [
    {
     "name": "stdin",
     "output_type": "stream",
     "text": [
      "Enter a string:  wow brother\n"
     ]
    },
    {
     "name": "stdout",
     "output_type": "stream",
     "text": [
      "The input string is not a palindrome.\n"
     ]
    }
   ],
   "source": [
    "#4\n",
    "a = input(\"Enter a string: \")\n",
    "b = a.replace(\" \", \"\").lower()\n",
    "if a == b[::-1]:\n",
    "    print(\"The input string is a palindrome.\")\n",
    "else:\n",
    "    print(\"The input string is not a palindrome.\")"
   ]
  },
  {
   "cell_type": "code",
   "execution_count": 8,
   "id": "785086ee-ba1e-460c-9a6a-790accd03369",
   "metadata": {},
   "outputs": [
    {
     "name": "stdin",
     "output_type": "stream",
     "text": [
      "Enter a string:  hello mr miyagi\n"
     ]
    },
    {
     "name": "stdout",
     "output_type": "stream",
     "text": [
      "Modified string without spaces:hellomrmiyagi\n"
     ]
    }
   ],
   "source": [
    "#5\n",
    "a = input(\"Enter a string: \")\n",
    "b = a.replace(\" \", \"\")\n",
    "print(f\"Modified string without spaces:{b}\")"
   ]
  }
 ],
 "metadata": {
  "kernelspec": {
   "display_name": "Python 3 (ipykernel)",
   "language": "python",
   "name": "python3"
  },
  "language_info": {
   "codemirror_mode": {
    "name": "ipython",
    "version": 3
   },
   "file_extension": ".py",
   "mimetype": "text/x-python",
   "name": "python",
   "nbconvert_exporter": "python",
   "pygments_lexer": "ipython3",
   "version": "3.10.8"
  }
 },
 "nbformat": 4,
 "nbformat_minor": 5
}
